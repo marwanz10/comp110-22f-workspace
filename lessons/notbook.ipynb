{
 "cells": [
  {
   "cell_type": "markdown",
   "metadata": {},
   "source": [
    "# Quantifying Shakespeare\n",
    "\n",
    "In this notebook we will:\n",
    "\n",
    "1. Read all of shakespear's works into a list of strings\n",
    "2. Count the fewquencies of letters used\n",
    "3. Visualize the results of the fewquencies\n",
    "\n",
    "The dataset we will use is: <https://bit.ly/shakespeare-txt>\n"
   ]
  },
  {
   "cell_type": "code",
   "execution_count": null,
   "metadata": {},
   "outputs": [],
   "source": [
    "# Read the lines into a list\n",
    "\n",
    "from io import TextIOWrapper\n",
    "\n",
    "def read_lines(filename: str) -> list[str]:\n",
    "    \"\"\"\"Read every line from filename into a list.\"\"\"\n",
    "    lines: list[str] = []\n",
    "    file_handle: TextIOWrapper = open(filename, \"r\")\n",
    "    for line in file_handle:\n",
    "        line = line.lower()\n",
    "        line = line.strip()\n",
    "        lines.append(line)\n",
    "    file_handle.close()\n",
    "    return lines\n",
    "\n",
    "\n",
    "shakespeare_lines: list[str] = read_lines(\"./shakespseare.txt\")\n",
    "print(shakespeare_lines)"
   ]
  },
  {
   "cell_type": "code",
   "execution_count": 2,
   "metadata": {},
   "outputs": [
    {
     "ename": "NameError",
     "evalue": "name 'shakespeare_lines' is not defined",
     "output_type": "error",
     "traceback": [
      "\u001b[1;31m---------------------------------------------------------------------------\u001b[0m",
      "\u001b[1;31mNameError\u001b[0m                                 Traceback (most recent call last)",
      "\u001b[1;32mc:\\Users\\marwa\\comp110-22f-workspace-1\\lessons\\notbook.ipynb Cell 3\u001b[0m in \u001b[0;36m<cell line: 29>\u001b[1;34m()\u001b[0m\n\u001b[0;32m     <a href='vscode-notebook-cell:/c%3A/Users/marwa/comp110-22f-workspace-1/lessons/notbook.ipynb#X10sZmlsZQ%3D%3D?line=24'>25</a>\u001b[0m             counts(tally(counts, character))\n\u001b[0;32m     <a href='vscode-notebook-cell:/c%3A/Users/marwa/comp110-22f-workspace-1/lessons/notbook.ipynb#X10sZmlsZQ%3D%3D?line=25'>26</a>\u001b[0m     \u001b[39mreturn\u001b[39;00m counts\n\u001b[1;32m---> <a href='vscode-notebook-cell:/c%3A/Users/marwa/comp110-22f-workspace-1/lessons/notbook.ipynb#X10sZmlsZQ%3D%3D?line=28'>29</a>\u001b[0m shakespeare_letters: \u001b[39mdict\u001b[39m[\u001b[39mstr\u001b[39m, \u001b[39mint\u001b[39m] \u001b[39m=\u001b[39m count_letters(shakespeare_lines)\n\u001b[0;32m     <a href='vscode-notebook-cell:/c%3A/Users/marwa/comp110-22f-workspace-1/lessons/notbook.ipynb#X10sZmlsZQ%3D%3D?line=29'>30</a>\u001b[0m \u001b[39mprint\u001b[39m(shakespeare_letters)\n",
      "\u001b[1;31mNameError\u001b[0m: name 'shakespeare_lines' is not defined"
     ]
    }
   ],
   "source": [
    "# Tally up characters\n",
    "\n",
    "#Goal: Define a function named tally\n",
    "# It will take two paramaters:\n",
    "# 1. A reference to a dictionary whose keys are str and values are int\n",
    "# 2. A str that refers to a key in the dictionary you are tallying\n",
    "# Logic:\n",
    "# If the str / key is in the dictionary, increase its calue by one.\n",
    "#Othersie. set they key's value to 1 in the dictionary\n",
    "# This function returns northing.\n",
    "\n",
    "\n",
    "def tally(a: dict[str, int], key: str) -> None:\n",
    "    if key in a:\n",
    "        a[key] += 1\n",
    "    else:\n",
    "        a[key] = 1\n",
    "\n",
    "\n",
    "def count_letters(lines: list[str]) -> dict[str, int]:\n",
    "    \"\"\"Count the frequences of all letters in lines.\"\"\"\n",
    "    counts: dict[str, int] = {}\n",
    "    for line in lines:\n",
    "        for character in line:\n",
    "            counts(tally(counts, character))\n",
    "    return counts\n",
    "\n",
    "\n",
    "shakespeare_letters: dict[str, int] = count_letters(shakespeare_lines)\n",
    "print(shakespeare_letters)"
   ]
  },
  {
   "cell_type": "code",
   "execution_count": null,
   "metadata": {},
   "outputs": [],
   "source": [
    "items_in_dict: list[tuple[str, int]] = list(shakespeare_letters.items())\n",
    "items_in_dict = sorted(items_in_dict)\n",
    "shakespeare_letters_sorted: dict[str, int]n= dict(items_in_dict)\n",
    "print(items_in_dict)"
   ]
  },
  {
   "cell_type": "code",
   "execution_count": 4,
   "metadata": {},
   "outputs": [
    {
     "ename": "NameError",
     "evalue": "name 'shakespeare_letters' is not defined",
     "output_type": "error",
     "traceback": [
      "\u001b[1;31m---------------------------------------------------------------------------\u001b[0m",
      "\u001b[1;31mNameError\u001b[0m                                 Traceback (most recent call last)",
      "\u001b[1;32mc:\\Users\\marwa\\comp110-22f-workspace-1\\lessons\\notbook.ipynb Cell 4\u001b[0m in \u001b[0;36m<cell line: 7>\u001b[1;34m()\u001b[0m\n\u001b[0;32m      <a href='vscode-notebook-cell:/c%3A/Users/marwa/comp110-22f-workspace-1/lessons/notbook.ipynb#X11sZmlsZQ%3D%3D?line=4'>5</a>\u001b[0m pyplot\u001b[39m.\u001b[39mxlabel(\u001b[39m\"\u001b[39m\u001b[39mLetters\u001b[39m\u001b[39m\"\u001b[39m)\n\u001b[0;32m      <a href='vscode-notebook-cell:/c%3A/Users/marwa/comp110-22f-workspace-1/lessons/notbook.ipynb#X11sZmlsZQ%3D%3D?line=5'>6</a>\u001b[0m pyplot\u001b[39m.\u001b[39mylabel(\u001b[39m\"\u001b[39m\u001b[39mfrequencies\u001b[39m\u001b[39m\"\u001b[39m)\n\u001b[1;32m----> <a href='vscode-notebook-cell:/c%3A/Users/marwa/comp110-22f-workspace-1/lessons/notbook.ipynb#X11sZmlsZQ%3D%3D?line=6'>7</a>\u001b[0m labels: \u001b[39mlist\u001b[39m[\u001b[39mstr\u001b[39m] \u001b[39m=\u001b[39m \u001b[39mlist\u001b[39m(shakespeare_letters\u001b[39m.\u001b[39mkeys())\n\u001b[0;32m      <a href='vscode-notebook-cell:/c%3A/Users/marwa/comp110-22f-workspace-1/lessons/notbook.ipynb#X11sZmlsZQ%3D%3D?line=7'>8</a>\u001b[0m values: \u001b[39mlist\u001b[39m[\u001b[39mint\u001b[39m] \u001b[39m=\u001b[39m \u001b[39mlist\u001b[39m(shakespeare_letters\u001b[39m.\u001b[39mvalues())\n\u001b[0;32m      <a href='vscode-notebook-cell:/c%3A/Users/marwa/comp110-22f-workspace-1/lessons/notbook.ipynb#X11sZmlsZQ%3D%3D?line=8'>9</a>\u001b[0m pyplot\u001b[39m.\u001b[39mbar(labels, values)\n",
      "\u001b[1;31mNameError\u001b[0m: name 'shakespeare_letters' is not defined"
     ]
    },
    {
     "data": {
      "image/png": "[encoded data removed]",
      "text/plain": [
       "<Figure size 640x480 with 1 Axes>"
      ]
     },
     "metadata": {},
     "output_type": "display_data"
    }
   ],
   "source": [
    "# Make a bar chart\n",
    "from matplotlib import pyplot\n",
    "\n",
    "pyplot.title(\"Frequencies of Letters\")\n",
    "pyplot.xlabel(\"Letters\")\n",
    "pyplot.ylabel(\"frequencies\")\n",
    "labels: list[str] = list(shakespeare_letters.keys())\n",
    "values: list[int] = list(shakespeare_letters.values())\n",
    "pyplot.bar(labels, values)"
   ]
  }
 ],
 "metadata": {
  "kernelspec": {
   "display_name": "Python 3.10.6 64-bit",
   "language": "python",
   "name": "python3"
  },
  "language_info": {
   "codemirror_mode": {
    "name": "ipython",
    "version": 3
   },
   "file_extension": ".py",
   "mimetype": "text/x-python",
   "name": "python",
   "nbconvert_exporter": "python",
   "pygments_lexer": "ipython3",
   "version": "3.10.6"
  },
  "orig_nbformat": 4,
  "vscode": {
   "interpreter": {
    "hash": "3f4c40a06b657b2d6ce10ead4079a03f96f0d0308093b06e604c3c7a199e49b4"
   }
  }
 },
 "nbformat": 4,
 "nbformat_minor": 2
}
